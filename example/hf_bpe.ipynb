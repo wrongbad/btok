{
 "cells": [
  {
   "cell_type": "code",
   "execution_count": 2,
   "metadata": {},
   "outputs": [],
   "source": [
    "from os.path import expanduser\n",
    "from tqdm import tqdm\n",
    "from tokenizers.implementations import ByteLevelBPETokenizer\n",
    "\n",
    "fname = expanduser('~/dev/data/text/wiki/enwik8_test.txt')\n",
    "with open(fname, 'r', encoding='utf8') as f:\n",
    "    data = f.read()\n",
    "\n",
    "n_vocab = 2048\n",
    "token_file = f'bpe{n_vocab}.json'\n",
    "\n",
    "tokenizer = ByteLevelBPETokenizer()\n",
    "tokenizer.train_from_iterator(tqdm([data]), vocab_size=n_vocab)\n",
    "\n",
    "n_vocab = tokenizer.get_vocab_size()\n",
    "tokenizer.save(token_file)\n",
    "\n",
    "n_vocab"
   ]
  },
  {
   "cell_type": "code",
   "execution_count": 3,
   "metadata": {},
   "outputs": [],
   "source": [
    "from tokenizers import Tokenizer\n",
    "\n",
    "tokenizer = Tokenizer.from_file(token_file)"
   ]
  },
  {
   "cell_type": "code",
   "execution_count": 6,
   "metadata": {},
   "outputs": [
    {
     "data": {
      "text/plain": [
       "41371856"
      ]
     },
     "execution_count": 6,
     "metadata": {},
     "output_type": "execute_result"
    }
   ],
   "source": [
    "# %timeit \n",
    "toks = tokenizer.encode(data)\n",
    "len(toks)"
   ]
  },
  {
   "cell_type": "code",
   "execution_count": 5,
   "metadata": {},
   "outputs": [
    {
     "data": {
      "text/plain": [
       "0.56886302"
      ]
     },
     "execution_count": 5,
     "metadata": {},
     "output_type": "execute_result"
    }
   ],
   "source": [
    "import numpy as np\n",
    "\n",
    "orig_bits = len(bytes(data, 'utf8')) * 8\n",
    "new_bits = len(toks) * np.log2(n_vocab)\n",
    "\n",
    "new_bits / orig_bits"
   ]
  }
 ],
 "metadata": {
  "kernelspec": {
   "display_name": ".venv",
   "language": "python",
   "name": "python3"
  },
  "language_info": {
   "codemirror_mode": {
    "name": "ipython",
    "version": 3
   },
   "file_extension": ".py",
   "mimetype": "text/x-python",
   "name": "python",
   "nbconvert_exporter": "python",
   "pygments_lexer": "ipython3",
   "version": "3.10.12"
  }
 },
 "nbformat": 4,
 "nbformat_minor": 2
}
