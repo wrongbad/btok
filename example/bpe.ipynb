{
 "cells": [
  {
   "cell_type": "code",
   "execution_count": 1,
   "metadata": {},
   "outputs": [
    {
     "name": "stderr",
     "output_type": "stream",
     "text": [
      "100%|██████████| 1792/1792 [01:53<00:00, 15.85it/s]\n"
     ]
    }
   ],
   "source": [
    "from os.path import expanduser\n",
    "from tqdm import tqdm\n",
    "import btok\n",
    "\n",
    "fname = expanduser('~/dev/data/text/wiki/enwik8_test.txt')\n",
    "with open(fname, 'rb') as f:\n",
    "    data = f.read()\n",
    "\n",
    "btr = btok.Trainer(2048)\n",
    "for _ in tqdm(range(btr.num_tokens(), 2048)):\n",
    "    btr.update(data, tokens_to_add=1)"
   ]
  },
  {
   "cell_type": "code",
   "execution_count": 7,
   "metadata": {},
   "outputs": [],
   "source": [
    "with open('bpe2048b.pack', 'wb') as f:\n",
    "    f.write(btr.tokenizer.pack())"
   ]
  },
  {
   "cell_type": "code",
   "execution_count": 8,
   "metadata": {},
   "outputs": [],
   "source": [
    "with open('bpe2048b.pack', 'rb') as f:\n",
    "    btz = btok.Tokenizer(f.read())"
   ]
  },
  {
   "cell_type": "code",
   "execution_count": 13,
   "metadata": {},
   "outputs": [
    {
     "name": "stdout",
     "output_type": "stream",
     "text": [
      "115 ms ± 100 µs per loop (mean ± std. dev. of 7 runs, 10 loops each)\n"
     ]
    },
    {
     "data": {
      "text/plain": [
       "3383736"
      ]
     },
     "execution_count": 13,
     "metadata": {},
     "output_type": "execute_result"
    }
   ],
   "source": [
    "# %timeit \n",
    "toks = btz.encode(data)\n",
    "len(toks)"
   ]
  },
  {
   "cell_type": "code",
   "execution_count": 12,
   "metadata": {},
   "outputs": [
    {
     "data": {
      "text/plain": [
       "True"
      ]
     },
     "execution_count": 12,
     "metadata": {},
     "output_type": "execute_result"
    }
   ],
   "source": [
    "back = btz.decode(toks)\n",
    "back == data"
   ]
  },
  {
   "cell_type": "code",
   "execution_count": 15,
   "metadata": {},
   "outputs": [
    {
     "data": {
      "text/plain": [
       "0.4652637"
      ]
     },
     "execution_count": 15,
     "metadata": {},
     "output_type": "execute_result"
    }
   ],
   "source": [
    "import numpy as np\n",
    "\n",
    "orig_bits = len(data) * 8\n",
    "new_bits = len(toks) * np.log2(btz.num_tokens())\n",
    "\n",
    "new_bits / orig_bits"
   ]
  }
 ],
 "metadata": {
  "kernelspec": {
   "display_name": ".venv",
   "language": "python",
   "name": "python3"
  },
  "language_info": {
   "codemirror_mode": {
    "name": "ipython",
    "version": 3
   },
   "file_extension": ".py",
   "mimetype": "text/x-python",
   "name": "python",
   "nbconvert_exporter": "python",
   "pygments_lexer": "ipython3",
   "version": "3.10.12"
  }
 },
 "nbformat": 4,
 "nbformat_minor": 2
}
